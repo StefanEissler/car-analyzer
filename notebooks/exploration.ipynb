{
 "cells": [
  {
   "cell_type": "markdown",
   "id": "de92a8c7",
   "metadata": {},
   "source": [
    "# Test Scraping"
   ]
  },
  {
   "cell_type": "code",
   "execution_count": 1,
   "id": "3b61efd0",
   "metadata": {},
   "outputs": [],
   "source": [
    "TEST_URL=\"https://www.kleinanzeigen.de/s-anzeige/merciedes-benz-c220/3153218052-216-8511\""
   ]
  },
  {
   "cell_type": "code",
   "execution_count": 2,
   "id": "3b05591a",
   "metadata": {},
   "outputs": [
    {
     "name": "stdout",
     "output_type": "stream",
     "text": [
      "CarData(title='Merciedes benz C220', price=7500.0, year='None', mileage='None', fuel_type='None', transmission='None', power='None', car_type='None', doors='None', color='None', condition='None', features=['Einparkhilfe', 'Leichtmetallfelgen', 'Xenon-/LED-Scheinwerfer', 'Klimaanlage', 'Navigationssystem', 'Radio/Tuner', 'Bluetooth', 'Freisprecheinrichtung', 'Schiebedach/Panoramadach', 'Sitzheizung', 'Tempomat', 'Nichtraucher-Fahrzeug', 'Antiblockiersystem (ABS)', 'Scheckheftgepflegt'], url='https://www.kleinanzeigen.de/s-anzeige/merciedes-benz-c220/3153218052-216-8511')\n"
     ]
    }
   ],
   "source": [
    "from car_analyzer.scraper import SimpleScraper\n",
    "\n",
    "scraper = SimpleScraper()\n",
    "\n",
    "result = scraper.scrape_url(TEST_URL)\n",
    "\n",
    "print(result)"
   ]
  }
 ],
 "metadata": {
  "kernelspec": {
   "display_name": "venv",
   "language": "python",
   "name": "python3"
  },
  "language_info": {
   "codemirror_mode": {
    "name": "ipython",
    "version": 3
   },
   "file_extension": ".py",
   "mimetype": "text/x-python",
   "name": "python",
   "nbconvert_exporter": "python",
   "pygments_lexer": "ipython3",
   "version": "3.12.1"
  }
 },
 "nbformat": 4,
 "nbformat_minor": 5
}
